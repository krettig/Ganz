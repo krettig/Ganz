{
 "cells": [
  {
   "cell_type": "code",
   "execution_count": 3,
   "id": "fb3d0090-bd4d-45f3-9576-d74ac97f85e9",
   "metadata": {},
   "outputs": [
    {
     "name": "stdout",
     "output_type": "stream",
     "text": [
      "Current working directory: C:\\Users\\krett\\Jupyter\\Ganz\n",
      "Start Time: 2024-03-30 15:14:44\n",
      "End Time: 2024-03-30 15:14:59, Elapsed Time: 0:00:14.974975, Games Played: 10000, Average Score: 167, debug_level: 1\n",
      "Lowest Score: 68, Seed: 1711826089493058909 -- Highest Score: 299, Seed: 1711826089871330372\n",
      "Average no legal plays (per 100 games): 5\n",
      "Average overplayed colors (per 100 games): {'yellow': 0, 'blue': 0, 'green': 23, 'orange': 2, 'purple': 0}\n",
      "Average underplayed colors (per 100 games): {'yellow': 104, 'blue': 166, 'green': 18, 'orange': 52, 'purple': 102}\n"
     ]
    }
   ],
   "source": [
    "%run \"Ganz Game Engine.py\""
   ]
  },
  {
   "cell_type": "code",
   "execution_count": null,
   "id": "4a618be7-27ed-416f-9871-7dbed580e7a6",
   "metadata": {},
   "outputs": [],
   "source": []
  }
 ],
 "metadata": {
  "kernelspec": {
   "display_name": "Python 3 (ipykernel)",
   "language": "python",
   "name": "python3"
  },
  "language_info": {
   "codemirror_mode": {
    "name": "ipython",
    "version": 3
   },
   "file_extension": ".py",
   "mimetype": "text/x-python",
   "name": "python",
   "nbconvert_exporter": "python",
   "pygments_lexer": "ipython3",
   "version": "3.12.2"
  }
 },
 "nbformat": 4,
 "nbformat_minor": 5
}
